{
 "cells": [
  {
   "cell_type": "markdown",
   "metadata": {},
   "source": [
    "# Indirect impact of river flow on electricity price"
   ]
  },
  {
   "cell_type": "markdown",
   "metadata": {},
   "source": [
    "## Imports"
   ]
  },
  {
   "cell_type": "code",
   "execution_count": null,
   "metadata": {},
   "outputs": [],
   "source": [
    "import matplotlib.pyplot as plt\n",
    "import numpy as np\n",
    "import pandas as pd\n",
    "import seaborn as sns\n",
    "import os\n",
    "from sklearn.linear_model import LinearRegression\n",
    "\n",
    "from scripts.utils import scale_font_latex"
   ]
  },
  {
   "cell_type": "markdown",
   "metadata": {},
   "source": [
    "## Load harmonized data"
   ]
  },
  {
   "cell_type": "code",
   "execution_count": 3,
   "metadata": {},
   "outputs": [],
   "source": [
    "TRUE_START = pd.Timestamp(\"20180101T00\", tz=\"utc\")\n",
    "TRUE_END = pd.Timestamp(\"20231231T23\", tz=\"utc\")\n",
    "true_years = f\"{TRUE_START.year}-{TRUE_END.year}\"\n",
    "COUNTRY_CODE = \"FR\"\n",
    "\n",
    "\n",
    "data = pd.read_csv(\n",
    "    f\"../data/processed/combined_data/data_selected_{COUNTRY_CODE}_{true_years}.csv\",\n",
    "    parse_dates=[\"timestamp\"],\n",
    ").set_index(\"timestamp\")\n",
    "# Drop NaNs\n",
    "data = data.dropna()\n",
    "data.index = pd.to_datetime(data.index, utc=\"utc\")\n",
    "data[\"river_flow_mean\"] = data[\"river_flow_mean\"] / 1000  # convert to m^3/s"
   ]
  },
  {
   "cell_type": "markdown",
   "metadata": {},
   "source": [
    "## indirect impact of river flow on price"
   ]
  },
  {
   "cell_type": "code",
   "execution_count": null,
   "metadata": {},
   "outputs": [],
   "source": [
    "scale_font_latex(1.25)\n",
    "start = TRUE_START\n",
    "end = TRUE_END\n",
    "\n",
    "\n",
    "data_selected = data.loc[start:end]\n",
    "# Calculate correlation\n",
    "correlation = np.corrcoef(data_selected[\"river_flow_mean\"], data_selected[\"price_da\"])[\n",
    "    0, 1\n",
    "]\n",
    "print(\"Correlation with price_da:\", correlation)\n",
    "\n",
    "\n",
    "# linear fit:\n",
    "x_val = data_selected[\"river_flow_mean\"].values.reshape((-1, 1))\n",
    "y_val = data_selected[\"price_da\"].values.reshape((-1, 1))\n",
    "linear_model = LinearRegression().fit(x_val, y_val)\n",
    "slope = linear_model.coef_[0][0]\n",
    "intercept = linear_model.intercept_[0]\n",
    "print(\"Slope:\", slope)\n",
    "print(\"Intercept:\", intercept)\n",
    "\n",
    "\n",
    "fig, ax = plt.subplots(1, 1, figsize=(16, 9))\n",
    "ax.plot(\n",
    "    x_val,\n",
    "    linear_model.predict(x_val),\n",
    "    color=\"black\",\n",
    "    label=f\"slope: {slope:.3f}  EUR/MWh$\\cdot$s/$m^3$\",\n",
    "    alpha=0.7,\n",
    "    linewidth=2,\n",
    ")\n",
    "# Set labels\n",
    "ax.set_xlabel(\"River flow ($m^3$/s)\")\n",
    "ax.set_ylabel(\"Price FR (EUR/MWh)\")\n",
    "\n",
    "plt.ylim(0, 1000)\n",
    "plt.scatter(\n",
    "    data_selected[\"river_flow_mean\"],\n",
    "    data_selected[\"price_da\"],\n",
    "    s=1,\n",
    "    c=sns.color_palette(\"colorblind\")[0],\n",
    ")\n",
    "plt.legend()\n",
    "fig_dir = \"../reports/figures/indirect_effects\"\n",
    "os.makedirs(fig_dir, exist_ok=True)\n",
    "fig.savefig(fig_dir + f\"/price_vs_river_flow.png\", dpi=450, bbox_inches=\"tight\")\n",
    "plt.show()\n",
    "\n",
    "\n",
    "# Calculate correlation\n",
    "correlation = np.corrcoef(\n",
    "    data_selected[\"river_flow_mean\"], data_selected[\"agg_net_export\"]\n",
    ")[0, 1]\n",
    "print(\"Correlation with agg_net_export:\", correlation)\n",
    "\n",
    "# Calculate correlation\n",
    "correlation = np.corrcoef(data_selected[\"river_flow_mean\"], data_selected[\"gas_price\"])[\n",
    "    0, 1\n",
    "]\n",
    "print(\"Correlation with gas price:\", correlation)\n",
    "\n",
    "# Calculate correlation\n",
    "correlation = np.corrcoef(\n",
    "    data_selected[\"river_flow_mean\"], data_selected[\"carbon_price\"]\n",
    ")[0, 1]\n",
    "print(\"Correlation with carbon price:\", correlation)\n",
    "\n",
    "# Calculate correlation\n",
    "correlation = np.corrcoef(data_selected[\"price_da\"], data_selected[\"gas_price\"])[0, 1]\n",
    "print(\"Correlation price with gas price:\", correlation)"
   ]
  },
  {
   "cell_type": "code",
   "execution_count": null,
   "metadata": {},
   "outputs": [],
   "source": [
    "scale_font_latex(1.25)\n",
    "start = TRUE_START\n",
    "end = TRUE_END\n",
    "\n",
    "\n",
    "data_selected = data.loc[start:end]\n",
    "# Calculate correlation\n",
    "correlation = np.corrcoef(\n",
    "    data_selected[\"river_flow_mean\"], data_selected[\"agg_net_export\"]\n",
    ")[0, 1]\n",
    "print(\"Correlation with price_da:\", correlation)\n",
    "\n",
    "\n",
    "# linear fit:\n",
    "x_val = data_selected[\"river_flow_mean\"].values.reshape((-1, 1))\n",
    "y_val = data_selected[\"agg_net_export\"].values.reshape((-1, 1))\n",
    "linear_model = LinearRegression().fit(x_val, y_val)\n",
    "slope = linear_model.coef_[0][0]\n",
    "intercept = linear_model.intercept_[0]\n",
    "print(\"Slope:\", slope)\n",
    "print(\"Intercept:\", intercept)\n",
    "\n",
    "\n",
    "fig, ax = plt.subplots(1, 1, figsize=(16, 9))\n",
    "ax.plot(\n",
    "    x_val,\n",
    "    linear_model.predict(x_val),\n",
    "    color=\"black\",\n",
    "    label=f\"slope: {slope:.3f}  MW$\\cdot$s/$m^3$\",\n",
    "    alpha=0.7,\n",
    "    linewidth=2,\n",
    ")\n",
    "# Set labels\n",
    "ax.set_xlabel(\"River flow ($m^3$/s)\")\n",
    "ax.set_ylabel(\"Net exports (MW)\")\n",
    "\n",
    "# plt.ylim(-15, 20)\n",
    "plt.scatter(\n",
    "    data_selected[\"river_flow_mean\"],\n",
    "    data_selected[\"agg_net_export\"],\n",
    "    s=1,\n",
    "    c=sns.color_palette(\"colorblind\")[1],\n",
    ")\n",
    "plt.legend()\n",
    "fig_dir = \"../reports/figures/indirect_effects\"\n",
    "os.makedirs(fig_dir, exist_ok=True)\n",
    "fig.savefig(fig_dir + f\"/net_exports_vs_river_flow.png\", dpi=450, bbox_inches=\"tight\")\n",
    "plt.show()"
   ]
  }
 ],
 "metadata": {
  "kernelspec": {
   "display_name": "causal_inference_final",
   "language": "python",
   "name": "python3"
  },
  "language_info": {
   "codemirror_mode": {
    "name": "ipython",
    "version": 3
   },
   "file_extension": ".py",
   "mimetype": "text/x-python",
   "name": "python",
   "nbconvert_exporter": "python",
   "pygments_lexer": "ipython3",
   "version": "3.10.16"
  }
 },
 "nbformat": 4,
 "nbformat_minor": 2
}
